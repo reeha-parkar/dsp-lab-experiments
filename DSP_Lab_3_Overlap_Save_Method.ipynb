{
  "nbformat": 4,
  "nbformat_minor": 0,
  "metadata": {
    "colab": {
      "name": "DSP_Lab_3.ipynb",
      "provenance": [],
      "collapsed_sections": []
    },
    "kernelspec": {
      "name": "python3",
      "display_name": "Python 3"
    },
    "language_info": {
      "name": "python"
    }
  },
  "cells": [
    {
      "cell_type": "code",
      "metadata": {
        "id": "gu7WBYhgmt4l"
      },
      "source": [
        "import numpy as np"
      ],
      "execution_count": 126,
      "outputs": []
    },
    {
      "cell_type": "code",
      "metadata": {
        "colab": {
          "base_uri": "https://localhost:8080/"
        },
        "id": "-1zhbeJMm2xW",
        "outputId": "b066bccf-72ec-47f1-cf9f-fafb4169d720"
      },
      "source": [
        "#x(n) user input\n",
        "x = list(map(int, input(\"Enter the x(n) vector: \").split()))\n",
        "\n",
        "#h(n) user input\n",
        "h = list(map(int, input(\"Enter the h(n) vector: \").split()))\n",
        "\n",
        "#Ls user input\n",
        "L = int(input(\"Enter the size of Ls: \"))"
      ],
      "execution_count": 186,
      "outputs": [
        {
          "name": "stdout",
          "output_type": "stream",
          "text": [
            "Enter the x(n) vector: 1 2 -1 2 3 -2 -3 -1 1 1 2 -1 \n",
            "Enter the h(n) vector: 1 2\n",
            "Enter the size of Ls: 4\n"
          ]
        }
      ]
    },
    {
      "cell_type": "code",
      "metadata": {
        "colab": {
          "base_uri": "https://localhost:8080/"
        },
        "id": "h68Shq-snYgv",
        "outputId": "71e125a5-9063-4814-f243-85e1d811e157"
      },
      "source": [
        "M = len(h)\n",
        "print(\"M =\", M)"
      ],
      "execution_count": 187,
      "outputs": [
        {
          "output_type": "stream",
          "name": "stdout",
          "text": [
            "M = 2\n"
          ]
        }
      ]
    },
    {
      "cell_type": "code",
      "metadata": {
        "colab": {
          "base_uri": "https://localhost:8080/"
        },
        "id": "Geah3QQh-REh",
        "outputId": "ae8be75b-9b78-4d2f-cc60-f02009b9e2ad"
      },
      "source": [
        "number_of_short_sequences = int(input(\"Enter the number of short sequences: \"))"
      ],
      "execution_count": 188,
      "outputs": [
        {
          "name": "stdout",
          "output_type": "stream",
          "text": [
            "Enter the number of short sequences: 5\n"
          ]
        }
      ]
    },
    {
      "cell_type": "code",
      "metadata": {
        "colab": {
          "base_uri": "https://localhost:8080/"
        },
        "id": "JTAw1WAjqT5r",
        "outputId": "ae98fa9f-0327-4000-eafa-1649202498d3"
      },
      "source": [
        "#xn is a vector of the vectors x1, x2, x3, x4\n",
        "xn = [[0]*(L) for _ in range(number_of_short_sequences)] \n",
        "print(xn)\n",
        "\n",
        "for i in range(len(xn)):\n",
        "    #print(i)\n",
        "    if i==0:\n",
        "        xn[i][M-1:] = x[:L-M+1]\n",
        "        next_point = L-M+1\n",
        "    else:\n",
        "        xn[i][:M-1] = xn[i-1][-(M-1):]\n",
        "        xn[i][M-1:] = x[next_point:next_point+L-M+1]\n",
        "        next_point += L-M+1\n",
        "\n",
        "        if len(xn[i]) is not L:\n",
        "            for padding in range(L-len(xn[i])):\n",
        "                xn[i].append(0)\n",
        "print(xn)"
      ],
      "execution_count": 189,
      "outputs": [
        {
          "output_type": "stream",
          "name": "stdout",
          "text": [
            "[[0, 0, 0, 0], [0, 0, 0, 0], [0, 0, 0, 0], [0, 0, 0, 0], [0, 0, 0, 0]]\n",
            "[[0, 1, 2, -1], [-1, 2, 3, -2], [-2, -3, -1, 1], [1, 1, 2, -1], [-1, 0, 0, 0]]\n"
          ]
        }
      ]
    },
    {
      "cell_type": "code",
      "metadata": {
        "id": "dXfTX3u2vCd7"
      },
      "source": [
        "#xn is the matrix of x1, x2, x3, x4\n",
        "#now append 0s to hn and make its rotating wala matrix ~ done\n",
        "#then matmul hn ka matrix and each of xn ke vectors\n",
        "#then you have yn ke vectors, so discard first M-1 terms and join others to make one yn vector"
      ],
      "execution_count": 190,
      "outputs": []
    },
    {
      "cell_type": "code",
      "metadata": {
        "colab": {
          "base_uri": "https://localhost:8080/"
        },
        "id": "Wa6KR1e9ybWa",
        "outputId": "469bdccf-e1cf-4d28-def0-4cc7b0b8217d"
      },
      "source": [
        "#h matrix\n",
        "for i in range(L-len(h)):\n",
        "    h.append(0)\n",
        "\n",
        "h_matrix = []\n",
        "\n",
        "hn = h\n",
        "for i in range(L):\n",
        "    h_matrix.append(hn)\n",
        "    hn = list([hn[-1]] + hn[:-1])\n",
        "print(h_matrix)"
      ],
      "execution_count": 191,
      "outputs": [
        {
          "output_type": "stream",
          "name": "stdout",
          "text": [
            "[[1, 2, 0, 0], [0, 1, 2, 0], [0, 0, 1, 2], [2, 0, 0, 1]]\n"
          ]
        }
      ]
    },
    {
      "cell_type": "code",
      "metadata": {
        "id": "VCK0ZwQ6zze9"
      },
      "source": [
        "#xn = [[0, 0, 3, -1, 0], [-1, 0, 1, 3, 2], [3, 2, 0, 1, 2], [1, 2, 1, 0, 0]]"
      ],
      "execution_count": 192,
      "outputs": []
    },
    {
      "cell_type": "code",
      "metadata": {
        "colab": {
          "base_uri": "https://localhost:8080/"
        },
        "id": "xiTycz_Ay8fY",
        "outputId": "ddf0d504-bb96-4f22-d00a-c9d0a49b3f71"
      },
      "source": [
        "y_matrix = []\n",
        "for i in range(number_of_short_sequences):\n",
        "    y = np.matmul(xn[i], h_matrix)\n",
        "    y_matrix.append(y)\n",
        "print(y_matrix)"
      ],
      "execution_count": 193,
      "outputs": [
        {
          "output_type": "stream",
          "name": "stdout",
          "text": [
            "[array([-2,  1,  4,  3]), array([-5,  0,  7,  4]), array([ 0, -7, -7, -1]), array([-1,  3,  4,  3]), array([-1, -2,  0,  0])]\n"
          ]
        }
      ]
    },
    {
      "cell_type": "code",
      "metadata": {
        "colab": {
          "base_uri": "https://localhost:8080/"
        },
        "id": "XMdxhiD70QHV",
        "outputId": "e802798f-f2fe-4057-e14a-89ef2296f41c"
      },
      "source": [
        "final_y = []\n",
        "for i in y_matrix:\n",
        "    for k in range(L):\n",
        "        if k not in range(M-1):\n",
        "            final_y.append(i[k])\n",
        "        \n",
        "print(\"y(n) =\", final_y)"
      ],
      "execution_count": 194,
      "outputs": [
        {
          "output_type": "stream",
          "name": "stdout",
          "text": [
            "y(n) = [1, 4, 3, 0, 7, 4, -7, -7, -1, 3, 4, 3, -2, 0, 0]\n"
          ]
        }
      ]
    },
    {
      "cell_type": "code",
      "metadata": {
        "id": "LF8EGRfI-5q5"
      },
      "source": [
        ""
      ],
      "execution_count": null,
      "outputs": []
    }
  ]
}