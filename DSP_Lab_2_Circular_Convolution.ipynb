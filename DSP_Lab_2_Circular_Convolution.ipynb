{
  "nbformat": 4,
  "nbformat_minor": 0,
  "metadata": {
    "colab": {
      "name": "DSP_Lab_2_Circular_Convolution.ipynb",
      "provenance": [],
      "collapsed_sections": []
    },
    "kernelspec": {
      "name": "python3",
      "display_name": "Python 3"
    },
    "language_info": {
      "name": "python"
    }
  },
  "cells": [
    {
      "cell_type": "code",
      "metadata": {
        "id": "0Dldjf5gdVHi"
      },
      "source": [
        "import numpy as np\n",
        "import math, cmath"
      ],
      "execution_count": null,
      "outputs": []
    },
    {
      "cell_type": "code",
      "metadata": {
        "id": "LPfORp3DdbtZ"
      },
      "source": [
        "# Form the twiddle factor matrix\n",
        "def create_twiddle_factor_matrix(N):\n",
        "    twiddle_factor_matrix = []\n",
        "    for i in range(N):  \n",
        "        row = []\n",
        "        temp = 0\n",
        "        for j in range(N):\n",
        "            z = complex(0, (-2*math.pi*temp) / N)\n",
        "            row.append(cmath.exp(z))\n",
        "            temp += i\n",
        "        twiddle_factor_matrix.append(row)\n",
        "    return twiddle_factor_matrix"
      ],
      "execution_count": null,
      "outputs": []
    },
    {
      "cell_type": "code",
      "metadata": {
        "colab": {
          "base_uri": "https://localhost:8080/"
        },
        "id": "HE-WUGHwdgvG",
        "outputId": "3680c40f-7363-4b24-ecf4-ab39c4fa92d0"
      },
      "source": [
        "N = int(input(\"Enter the size: \"))\n",
        "print(np.round(create_twiddle_factor_matrix(N), 2))"
      ],
      "execution_count": null,
      "outputs": [
        {
          "output_type": "stream",
          "name": "stdout",
          "text": [
            "Enter the size: 4\n",
            "[[ 1.-0.j  1.-0.j  1.-0.j  1.-0.j]\n",
            " [ 1.-0.j  0.-1.j -1.-0.j -0.+1.j]\n",
            " [ 1.-0.j -1.-0.j  1.+0.j -1.-0.j]\n",
            " [ 1.-0.j -0.+1.j -1.-0.j  0.-1.j]]\n"
          ]
        }
      ]
    },
    {
      "cell_type": "code",
      "metadata": {
        "colab": {
          "base_uri": "https://localhost:8080/"
        },
        "id": "H9F1Bc_Ydh2J",
        "outputId": "79f3b5fe-dae3-4a01-9caf-c65fee21f515"
      },
      "source": [
        "# DFT\n",
        "xn = list(map(int, input(\"Enter the x(n) vector: \").split())) # x(n) user input\n",
        "Xk = np.round(np.matmul(xn, create_twiddle_factor_matrix(N)), 2) # X[k]\n",
        "print(\"X[k] = \", Xk)"
      ],
      "execution_count": null,
      "outputs": [
        {
          "output_type": "stream",
          "name": "stdout",
          "text": [
            "Enter the x(n) vector: 0 1 2 3\n",
            "X[k] =  [ 6.+0.j -2.+2.j -2.-0.j -2.-2.j]\n"
          ]
        }
      ]
    },
    {
      "cell_type": "code",
      "metadata": {
        "colab": {
          "base_uri": "https://localhost:8080/"
        },
        "id": "Xcuu-6o0fReA",
        "outputId": "f3a12d0f-e47b-4614-90aa-b8b416c6b639"
      },
      "source": [
        "hn = list(map(int, input(\"Enter the h(n) vector: \").split())) # h(n) user input\n",
        "Hk = np.round(np.matmul(hn, create_twiddle_factor_matrix(N)), 2) # H[k]\n",
        "print(\"H[k] = \", Hk)"
      ],
      "execution_count": null,
      "outputs": [
        {
          "output_type": "stream",
          "name": "stdout",
          "text": [
            "Enter the h(n) vector: 1 2 2 1\n",
            "H[k] =  [ 6.+0.j -1.-1.j  0.-0.j -1.+1.j]\n"
          ]
        }
      ]
    },
    {
      "cell_type": "code",
      "metadata": {
        "colab": {
          "base_uri": "https://localhost:8080/"
        },
        "id": "LF_Z6xq0hMrx",
        "outputId": "c62810ad-f36e-49f3-f029-4dabc9bccfc6"
      },
      "source": [
        "Yk = np.round(np.multiply(Xk, Hk), 2)\n",
        "print(\"Y[k] = \", Yk)"
      ],
      "execution_count": null,
      "outputs": [
        {
          "output_type": "stream",
          "name": "stdout",
          "text": [
            "Y[k] =  [36.+0.j  4.+0.j -0.+0.j  4.+0.j]\n"
          ]
        }
      ]
    },
    {
      "cell_type": "code",
      "metadata": {
        "colab": {
          "base_uri": "https://localhost:8080/"
        },
        "id": "B8t-o4lihkUS",
        "outputId": "0840ba58-7e1c-475d-d8e9-6fcb4549db6a"
      },
      "source": [
        "# IDFT:\n",
        "yn = (1/N) * (np.round(np.matmul(Yk, np.conj(create_twiddle_factor_matrix(N))), 2))\n",
        "print(\"y[n] = \", yn)"
      ],
      "execution_count": null,
      "outputs": [
        {
          "output_type": "stream",
          "name": "stdout",
          "text": [
            "y[n] =  [11.+0.j  9.+0.j  7.+0.j  9.+0.j]\n"
          ]
        }
      ]
    },
    {
      "cell_type": "code",
      "metadata": {
        "id": "uXECq9gTjEtD"
      },
      "source": [
        ""
      ],
      "execution_count": null,
      "outputs": []
    }
  ]
}