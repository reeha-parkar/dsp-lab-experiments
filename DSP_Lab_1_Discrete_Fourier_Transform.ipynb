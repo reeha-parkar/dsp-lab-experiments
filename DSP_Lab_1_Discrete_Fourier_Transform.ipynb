{
  "nbformat": 4,
  "nbformat_minor": 0,
  "metadata": {
    "colab": {
      "name": "DFT.ipynb",
      "provenance": []
    },
    "kernelspec": {
      "name": "python3",
      "display_name": "Python 3"
    },
    "language_info": {
      "name": "python"
    }
  },
  "cells": [
    {
      "cell_type": "code",
      "metadata": {
        "id": "LEFdsVaobKhJ"
      },
      "source": [
        "import numpy as np\n",
        "import math, cmath"
      ],
      "execution_count": 24,
      "outputs": []
    },
    {
      "cell_type": "code",
      "metadata": {
        "id": "hQWoQ-9Rj9ty"
      },
      "source": [
        "# Form the twiddle factor matrix\n",
        "def create_twiddle_factor_matrix(N):\n",
        "    twiddle_factor_matrix = []\n",
        "    for i in range(N):  \n",
        "        row = []\n",
        "        temp = 0\n",
        "        for j in range(N):\n",
        "            z = complex(0, (-2*math.pi*temp) / N)\n",
        "            row.append(cmath.exp(z))\n",
        "            temp += i\n",
        "        twiddle_factor_matrix.append(row)\n",
        "    return twiddle_factor_matrix"
      ],
      "execution_count": 25,
      "outputs": []
    },
    {
      "cell_type": "code",
      "metadata": {
        "colab": {
          "base_uri": "https://localhost:8080/"
        },
        "id": "DlTbiLPhdq6y",
        "outputId": "4cf721d4-1417-4231-d2ec-53eb04e85183"
      },
      "source": [
        "N = int(input(\"Enter the size: \"))\n",
        "print(np.round(create_twiddle_factor_matrix(N), 2))"
      ],
      "execution_count": 38,
      "outputs": [
        {
          "output_type": "stream",
          "text": [
            "Enter the size: 8\n",
            "[[ 1.  -0.j    1.  -0.j    1.  -0.j    1.  -0.j    1.  -0.j    1.  -0.j\n",
            "   1.  -0.j    1.  -0.j  ]\n",
            " [ 1.  -0.j    0.71-0.71j  0.  -1.j   -0.71-0.71j -1.  -0.j   -0.71+0.71j\n",
            "  -0.  +1.j    0.71+0.71j]\n",
            " [ 1.  -0.j    0.  -1.j   -1.  -0.j   -0.  +1.j    1.  +0.j    0.  -1.j\n",
            "  -1.  -0.j   -0.  +1.j  ]\n",
            " [ 1.  -0.j   -0.71-0.71j -0.  +1.j    0.71-0.71j -1.  -0.j    0.71+0.71j\n",
            "   0.  -1.j   -0.71+0.71j]\n",
            " [ 1.  -0.j   -1.  -0.j    1.  +0.j   -1.  -0.j    1.  +0.j   -1.  -0.j\n",
            "   1.  +0.j   -1.  -0.j  ]\n",
            " [ 1.  -0.j   -0.71+0.71j  0.  -1.j    0.71+0.71j -1.  -0.j    0.71-0.71j\n",
            "  -0.  +1.j   -0.71-0.71j]\n",
            " [ 1.  -0.j   -0.  +1.j   -1.  -0.j    0.  -1.j    1.  +0.j   -0.  +1.j\n",
            "  -1.  -0.j   -0.  -1.j  ]\n",
            " [ 1.  -0.j    0.71+0.71j -0.  +1.j   -0.71+0.71j -1.  -0.j   -0.71-0.71j\n",
            "  -0.  -1.j    0.71-0.71j]]\n"
          ],
          "name": "stdout"
        }
      ]
    },
    {
      "cell_type": "code",
      "metadata": {
        "colab": {
          "base_uri": "https://localhost:8080/"
        },
        "id": "hVkzq1TQkPfB",
        "outputId": "79204ef8-f331-4368-b618-abbfd69e5287"
      },
      "source": [
        "# DFT\n",
        "x = list(map(int, input(\"Enter the x(n) vector: \").split())) # x(n) user input\n",
        "print(\"X[k] = \", np.round(np.matmul(x, create_twiddle_factor_matrix(N)), 2))"
      ],
      "execution_count": 41,
      "outputs": [
        {
          "output_type": "stream",
          "text": [
            "Enter the x(n) vector: 1 2 3 4 5 6 7 8\n",
            "X[k] =  [36.+0.j   -4.+9.66j -4.+4.j   -4.+1.66j -4.-0.j   -4.-1.66j -4.-4.j\n",
            " -4.-9.66j]\n"
          ],
          "name": "stdout"
        }
      ]
    }
  ]
}